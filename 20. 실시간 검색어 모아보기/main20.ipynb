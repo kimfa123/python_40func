{
 "cells": [
  {
   "cell_type": "code",
   "execution_count": 2,
   "metadata": {},
   "outputs": [
    {
     "name": "stderr",
     "output_type": "stream",
     "text": [
      "/var/folders/kd/7m1p92b94cb6g_ldw8ym06480000gn/T/ipykernel_17656/4146816117.py:4: DeprecationWarning: executable_path has been deprecated, please pass in a Service object\n",
      "  driver = webdriver.Chrome(ChromeDriverManager().install())\n"
     ]
    }
   ],
   "source": [
    "from webdriver_manager.chrome   import ChromeDriverManager\n",
    "from selenium   import webdriver\n",
    "\n",
    "driver = webdriver.Chrome(ChromeDriverManager().install())\n",
    "\n",
    "URL = 'http://www.google.co.kr'\n",
    "driver.get(url=URL)\n",
    "driver.implicitly_wait(time_to_wait=10)"
   ]
  },
  {
   "cell_type": "code",
   "execution_count": 3,
   "metadata": {},
   "outputs": [
    {
     "ename": "AttributeError",
     "evalue": "'WebDriver' object has no attribute 'find_elements_by_css_selector'",
     "output_type": "error",
     "traceback": [
      "\u001b[0;31m---------------------------------------------------------------------------\u001b[0m",
      "\u001b[0;31mAttributeError\u001b[0m                            Traceback (most recent call last)",
      "\u001b[1;32m/Users/jihoonkim/Desktop/python_40functions/20. 실시간 검색어 모아보기/main20.ipynb 셀 2\u001b[0m in \u001b[0;36m<cell line: 5>\u001b[0;34m()\u001b[0m\n\u001b[1;32m      <a href='vscode-notebook-cell:/Users/jihoonkim/Desktop/python_40functions/20.%20%EC%8B%A4%EC%8B%9C%EA%B0%84%20%EA%B2%80%EC%83%89%EC%96%B4%20%EB%AA%A8%EC%95%84%EB%B3%B4%EA%B8%B0/main20.ipynb#W1sZmlsZQ%3D%3D?line=1'>2</a>\u001b[0m driver\u001b[39m.\u001b[39mget(url\u001b[39m=\u001b[39mURL)\n\u001b[1;32m      <a href='vscode-notebook-cell:/Users/jihoonkim/Desktop/python_40functions/20.%20%EC%8B%A4%EC%8B%9C%EA%B0%84%20%EA%B2%80%EC%83%89%EC%96%B4%20%EB%AA%A8%EC%95%84%EB%B3%B4%EA%B8%B0/main20.ipynb#W1sZmlsZQ%3D%3D?line=2'>3</a>\u001b[0m driver\u001b[39m.\u001b[39mimplicitly_wait(time_to_wait\u001b[39m=\u001b[39m\u001b[39m10\u001b[39m)\n\u001b[0;32m----> <a href='vscode-notebook-cell:/Users/jihoonkim/Desktop/python_40functions/20.%20%EC%8B%A4%EC%8B%9C%EA%B0%84%20%EA%B2%80%EC%83%89%EC%96%B4%20%EB%AA%A8%EC%95%84%EB%B3%B4%EA%B8%B0/main20.ipynb#W1sZmlsZQ%3D%3D?line=4'>5</a>\u001b[0m naver_results \u001b[39m=\u001b[39m driver\u001b[39m.\u001b[39;49mfind_elements_by_css_selector(\u001b[39m'\u001b[39m\u001b[39m#app > div > main > div > section > section:nth-child(2) > div.realtime-rank > div > div > a > span.rank-text\u001b[39m\u001b[39m'\u001b[39m)\n\u001b[1;32m      <a href='vscode-notebook-cell:/Users/jihoonkim/Desktop/python_40functions/20.%20%EC%8B%A4%EC%8B%9C%EA%B0%84%20%EA%B2%80%EC%83%89%EC%96%B4%20%EB%AA%A8%EC%95%84%EB%B3%B4%EA%B8%B0/main20.ipynb#W1sZmlsZQ%3D%3D?line=6'>7</a>\u001b[0m naver_list \u001b[39m=\u001b[39m []\n\u001b[1;32m      <a href='vscode-notebook-cell:/Users/jihoonkim/Desktop/python_40functions/20.%20%EC%8B%A4%EC%8B%9C%EA%B0%84%20%EA%B2%80%EC%83%89%EC%96%B4%20%EB%AA%A8%EC%95%84%EB%B3%B4%EA%B8%B0/main20.ipynb#W1sZmlsZQ%3D%3D?line=7'>8</a>\u001b[0m \u001b[39mfor\u001b[39;00m naver_results \u001b[39min\u001b[39;00m naver_results:\n",
      "\u001b[0;31mAttributeError\u001b[0m: 'WebDriver' object has no attribute 'find_elements_by_css_selector'"
     ]
    }
   ],
   "source": [
    "URL = 'https://signal.bz/news'\n",
    "driver.get(url=URL)\n",
    "driver.implicitly_wait(time_to_wait=10)\n",
    "\n",
    "naver_results = driver.find_elements_by_css_selector('#app > div > main > div > section > section:nth-child(2) > div.realtime-rank > div > div > a > span.rank-text')\n",
    "\n",
    "naver_list = []\n",
    "for naver_results in naver_results:\n",
    "    print(naver_result.text)\n",
    "    naver_list.append(naver_results.text)"
   ]
  },
  {
   "cell_type": "code",
   "execution_count": null,
   "metadata": {},
   "outputs": [],
   "source": [
    "URL = 'https://www.nate.com'\n",
    "driver.get(url=URL)\n",
    "driver.implicitly_wait(time_to_wait=10)\n",
    "\n",
    "driver.find_element_by_css_selector('#olLiveIssueKeyword > li:nth-child(1) > a > span.txt_rank').click()\n",
    "\n",
    "nate_results = driver.find_elements_by_css_selector('#search-option > form:nth-child(1) > fieldset > div.issue-kwd > span > a')\n",
    "\n",
    "nate_list = []\n",
    "for nate_result in nate_results:\n",
    "    print(nate_result.txt)\n",
    "    nate_list.append(nate_result.text)"
   ]
  },
  {
   "cell_type": "code",
   "execution_count": null,
   "metadata": {},
   "outputs": [],
   "source": [
    "import time\n",
    "\n",
    "URL='https://zum.com'\n",
    "driver.get(url=URL)\n",
    "driver.implicitly_wait(time_to_wait=10)\n",
    "\n",
    "driver.find_element_by_css_selector('#app > div > header > div.search_bar > div > field-set > div > input[type=text]').send_keys(\"아무거나 검색\")\n",
    "time.sleep(0.5)\n",
    "driver.find_element_by_css_selector('#app > div > header > div.search_bar > div > field-set > div > button.search').click()\n",
    "time.sleep(1)\n",
    "\n",
    "zoom_results = driver.find_elements_by_css_selector('#issue_wrap > ul > li > div > a:nth-child(1) > span.txt')\n",
    "\n",
    "zoom_list = []\n",
    "for zoom_result in zoom_results:\n",
    "    print(zoom_result.text)\n",
    "    zoom_list.append(zoom_result.text)\n",
    "    \n"
   ]
  },
  {
   "cell_type": "code",
   "execution_count": null,
   "metadata": {},
   "outputs": [],
   "source": [
    "print(\"네이버\", naver_list)\n",
    "print(\"네이트\", nate_list)\n",
    "print(\"줌\", zoom_list)"
   ]
  }
 ],
 "metadata": {
  "kernelspec": {
   "display_name": "Python 3.9.12 64-bit",
   "language": "python",
   "name": "python3"
  },
  "language_info": {
   "codemirror_mode": {
    "name": "ipython",
    "version": 3
   },
   "file_extension": ".py",
   "mimetype": "text/x-python",
   "name": "python",
   "nbconvert_exporter": "python",
   "pygments_lexer": "ipython3",
   "version": "3.9.12"
  },
  "orig_nbformat": 4,
  "vscode": {
   "interpreter": {
    "hash": "b0fa6594d8f4cbf19f97940f81e996739fb7646882a419484c72d19e05852a7e"
   }
  }
 },
 "nbformat": 4,
 "nbformat_minor": 2
}
