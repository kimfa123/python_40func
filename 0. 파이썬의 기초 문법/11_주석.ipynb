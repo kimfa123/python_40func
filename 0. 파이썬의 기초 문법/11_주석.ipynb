{
 "cells": [
  {
   "cell_type": "code",
   "execution_count": 1,
   "metadata": {},
   "outputs": [
    {
     "name": "stdout",
     "output_type": "stream",
     "text": [
      "hello\n"
     ]
    }
   ],
   "source": [
    "#주석입니다.\n",
    "#사용자 설명 코드입니다.\n",
    "print(\"hello\") # 코드의 줄 끝에 사용할 수 있습니다."
   ]
  },
  {
   "cell_type": "code",
   "execution_count": 2,
   "metadata": {},
   "outputs": [
    {
     "name": "stdout",
     "output_type": "stream",
     "text": [
      "hi\n"
     ]
    }
   ],
   "source": [
    "#print(\"hello\")\n",
    "print(\"hi\")"
   ]
  },
  {
   "cell_type": "code",
   "execution_count": null,
   "metadata": {},
   "outputs": [],
   "source": [
    "\"\"\"\n",
    "여러 줄을 입력할 때는\n",
    "쌍따옴표 3개로 시작하고 \n",
    "쌍따옴표 3개로 종료하면\n",
    "여러 불을 입력할 수 있습니다. \n",
    "\"\"\""
   ]
  },
  {
   "cell_type": "code",
   "execution_count": 3,
   "metadata": {},
   "outputs": [
    {
     "name": "stdout",
     "output_type": "stream",
     "text": [
      "\n",
      "여러 줄의\n",
      "문자열을 입력할 때도\n",
      "쌍따옴표 또는 띠옴표\n",
      "3개를 사용할 수 있습니다.\n",
      "\n"
     ]
    }
   ],
   "source": [
    "a_str = \"\"\"\n",
    "여러 줄의\n",
    "문자열을 입력할 때도\n",
    "쌍따옴표 또는 띠옴표\n",
    "3개를 사용할 수 있습니다.\n",
    "\"\"\"\n",
    "print(a_str)"
   ]
  },
  {
   "cell_type": "code",
   "execution_count": 4,
   "metadata": {},
   "outputs": [
    {
     "name": "stdout",
     "output_type": "stream",
     "text": [
      "3\n"
     ]
    }
   ],
   "source": [
    "# 여러 줄을 마우스로 드래그 하여 선택후 [Ctrl + /]로 주석 처리 할 수 있습니다.\n",
    "# 다시 주석을 해제할 때는 # 주석 처리된 코드에서 [Ctrl + /]로 주석을 해제 할 수 있습니다. \n",
    "a = 1\n",
    "b = 2\n",
    "print(a+b)"
   ]
  }
 ],
 "metadata": {
  "kernelspec": {
   "display_name": "Python 3.9.12 64-bit",
   "language": "python",
   "name": "python3"
  },
  "language_info": {
   "codemirror_mode": {
    "name": "ipython",
    "version": 3
   },
   "file_extension": ".py",
   "mimetype": "text/x-python",
   "name": "python",
   "nbconvert_exporter": "python",
   "pygments_lexer": "ipython3",
   "version": "3.9.12"
  },
  "orig_nbformat": 4,
  "vscode": {
   "interpreter": {
    "hash": "b0fa6594d8f4cbf19f97940f81e996739fb7646882a419484c72d19e05852a7e"
   }
  }
 },
 "nbformat": 4,
 "nbformat_minor": 2
}
